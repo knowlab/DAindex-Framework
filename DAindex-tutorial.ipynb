{
 "cells": [
  {
   "cell_type": "markdown",
   "id": "4b5041d1-7a19-4002-82f9-997676940f55",
   "metadata": {},
   "source": [
    "# Tutorial: use DAindex for quantifying health inequality\n",
    "This tutorial is a very simple example involving:\n",
    "- generate a random dataframe with multimorbidity numbers for two groups of patients: female and male.\n",
    "- assume that number of multimorbidities >= 3 is deemed frail and the higher the number the more frail the patient is.\n",
    "- use DAindex to quantify the inequality between female and male."
   ]
  },
  {
   "cell_type": "code",
   "execution_count": 1,
   "id": "5fb88d53-1dd1-4e0e-8c91-62a07778d451",
   "metadata": {},
   "outputs": [],
   "source": [
    "import pandas as pd\n",
    "import numpy as np"
   ]
  },
  {
   "cell_type": "markdown",
   "id": "31c6275d-6f49-45f1-ba66-d0e113e6393d",
   "metadata": {},
   "source": [
    "## 1. generate sample data"
   ]
  },
  {
   "cell_type": "code",
   "execution_count": 2,
   "id": "5f0a77f0-5195-438e-b056-590933fe2c61",
   "metadata": {},
   "outputs": [],
   "source": [
    "n_size = 100"
   ]
  },
  {
   "cell_type": "code",
   "execution_count": null,
   "id": "67f57ba6-ecaf-425e-a6d9-8281970ed50a",
   "metadata": {},
   "outputs": [],
   "source": [
    "female_mm = [int(m) for m in np.random.normal(3.2, .5, size=n_size)]\n",
    "df_female = pd.DataFrame(dict(mm=female_mm,\n",
    "                            gender=['f'] * n_size\n",
    "                           ))\n",
    "df_female.head()"
   ]
  },
  {
   "cell_type": "code",
   "execution_count": null,
   "id": "c27a5257-7d13-47f0-9d60-70081671c666",
   "metadata": {},
   "outputs": [],
   "source": [
    "male_mm = [int(m) for m in np.random.normal(3, .5, size=n_size)]\n",
    "df_male = pd.DataFrame(dict(mm=male_mm,\n",
    "                            gender=['m'] * n_size\n",
    "                           ))\n",
    "df_male.head()"
   ]
  },
  {
   "cell_type": "code",
   "execution_count": null,
   "id": "957d2d5f-2ef6-45ca-bb3f-cbf69d0224fa",
   "metadata": {},
   "outputs": [],
   "source": [
    "df = pd.concat([df_female, df_male], ignore_index=True)\n",
    "df.info()"
   ]
  },
  {
   "cell_type": "markdown",
   "id": "b463a50f-5f09-4e4f-b8e0-5180cbaf040b",
   "metadata": {},
   "source": [
    "## 2. import DAindex and quantify the inequality\n",
    "If DAindex is not installed, run \n",
    "```python\n",
    "!pip install DAindex\n",
    "```"
   ]
  },
  {
   "cell_type": "code",
   "execution_count": 6,
   "id": "13e3cc0e-0c10-42b9-9e41-c06653c322db",
   "metadata": {},
   "outputs": [],
   "source": [
    "from daindex.util import compare_two_groups"
   ]
  },
  {
   "cell_type": "code",
   "execution_count": null,
   "id": "afeba61f-8430-4289-a17d-17e831fc9cc8",
   "metadata": {},
   "outputs": [],
   "source": [
    "compare_two_groups(df[df.gender=='f'], df[df.gender=='m'], 'mm', 'female', 'male', '#Multimorbidity', 3, is_discrete=True)"
   ]
  },
  {
   "cell_type": "code",
   "execution_count": null,
   "id": "7d6769e3-0fac-4bd6-a5c7-b00d961e606b",
   "metadata": {},
   "outputs": [],
   "source": []
  }
 ],
 "metadata": {
  "kernelspec": {
   "display_name": "Python 3",
   "language": "python",
   "name": "python3"
  },
  "language_info": {
   "codemirror_mode": {
    "name": "ipython",
    "version": 3
   },
   "file_extension": ".py",
   "mimetype": "text/x-python",
   "name": "python",
   "nbconvert_exporter": "python",
   "pygments_lexer": "ipython3",
   "version": "3.12.5"
  }
 },
 "nbformat": 4,
 "nbformat_minor": 5
}
