{
 "cells": [
  {
   "cell_type": "markdown",
   "id": "4b5041d1-7a19-4002-82f9-997676940f55",
   "metadata": {},
   "source": [
    "# Tutorial: use DAindex for quantifying health inequality\n",
    "This tutorial is a very simple example involving:\n",
    "- generate a random dataframe with multimorbidity numbers for two groups of patients: female and male.\n",
    "- assume that number of multimorbidities >= 3 is deemed frail and the higher the number the more frail the patient is.\n",
    "- use DAindex to quantify the inequality between female and male."
   ]
  },
  {
   "cell_type": "code",
   "execution_count": 1,
   "id": "5fb88d53-1dd1-4e0e-8c91-62a07778d451",
   "metadata": {},
   "outputs": [],
   "source": [
    "import pandas as pd\n",
    "import numpy as np"
   ]
  },
  {
   "cell_type": "markdown",
   "id": "31c6275d-6f49-45f1-ba66-d0e113e6393d",
   "metadata": {},
   "source": [
    "## 1. generate sample data"
   ]
  },
  {
   "cell_type": "code",
   "execution_count": 2,
   "id": "5f0a77f0-5195-438e-b056-590933fe2c61",
   "metadata": {},
   "outputs": [],
   "source": [
    "n_size = 100"
   ]
  },
  {
   "cell_type": "code",
   "execution_count": 3,
   "id": "67f57ba6-ecaf-425e-a6d9-8281970ed50a",
   "metadata": {},
   "outputs": [
    {
     "data": {
      "text/html": [
       "<div>\n",
       "<style scoped>\n",
       "    .dataframe tbody tr th:only-of-type {\n",
       "        vertical-align: middle;\n",
       "    }\n",
       "\n",
       "    .dataframe tbody tr th {\n",
       "        vertical-align: top;\n",
       "    }\n",
       "\n",
       "    .dataframe thead th {\n",
       "        text-align: right;\n",
       "    }\n",
       "</style>\n",
       "<table border=\"1\" class=\"dataframe\">\n",
       "  <thead>\n",
       "    <tr style=\"text-align: right;\">\n",
       "      <th></th>\n",
       "      <th>mm</th>\n",
       "      <th>gender</th>\n",
       "    </tr>\n",
       "  </thead>\n",
       "  <tbody>\n",
       "    <tr>\n",
       "      <th>0</th>\n",
       "      <td>2</td>\n",
       "      <td>f</td>\n",
       "    </tr>\n",
       "    <tr>\n",
       "      <th>1</th>\n",
       "      <td>2</td>\n",
       "      <td>f</td>\n",
       "    </tr>\n",
       "    <tr>\n",
       "      <th>2</th>\n",
       "      <td>3</td>\n",
       "      <td>f</td>\n",
       "    </tr>\n",
       "    <tr>\n",
       "      <th>3</th>\n",
       "      <td>3</td>\n",
       "      <td>f</td>\n",
       "    </tr>\n",
       "    <tr>\n",
       "      <th>4</th>\n",
       "      <td>2</td>\n",
       "      <td>f</td>\n",
       "    </tr>\n",
       "  </tbody>\n",
       "</table>\n",
       "</div>"
      ],
      "text/plain": [
       "   mm gender\n",
       "0   2      f\n",
       "1   2      f\n",
       "2   3      f\n",
       "3   3      f\n",
       "4   2      f"
      ]
     },
     "execution_count": 3,
     "metadata": {},
     "output_type": "execute_result"
    }
   ],
   "source": [
    "female_mm = [int(m) for m in np.random.normal(3.2, .5, size=n_size)]\n",
    "df_female = pd.DataFrame(dict(mm=female_mm,\n",
    "                            gender=['f'] * n_size\n",
    "                           ))\n",
    "df_female.head()"
   ]
  },
  {
   "cell_type": "code",
   "execution_count": 4,
   "id": "c27a5257-7d13-47f0-9d60-70081671c666",
   "metadata": {},
   "outputs": [
    {
     "data": {
      "text/html": [
       "<div>\n",
       "<style scoped>\n",
       "    .dataframe tbody tr th:only-of-type {\n",
       "        vertical-align: middle;\n",
       "    }\n",
       "\n",
       "    .dataframe tbody tr th {\n",
       "        vertical-align: top;\n",
       "    }\n",
       "\n",
       "    .dataframe thead th {\n",
       "        text-align: right;\n",
       "    }\n",
       "</style>\n",
       "<table border=\"1\" class=\"dataframe\">\n",
       "  <thead>\n",
       "    <tr style=\"text-align: right;\">\n",
       "      <th></th>\n",
       "      <th>mm</th>\n",
       "      <th>gender</th>\n",
       "    </tr>\n",
       "  </thead>\n",
       "  <tbody>\n",
       "    <tr>\n",
       "      <th>0</th>\n",
       "      <td>3</td>\n",
       "      <td>m</td>\n",
       "    </tr>\n",
       "    <tr>\n",
       "      <th>1</th>\n",
       "      <td>2</td>\n",
       "      <td>m</td>\n",
       "    </tr>\n",
       "    <tr>\n",
       "      <th>2</th>\n",
       "      <td>2</td>\n",
       "      <td>m</td>\n",
       "    </tr>\n",
       "    <tr>\n",
       "      <th>3</th>\n",
       "      <td>4</td>\n",
       "      <td>m</td>\n",
       "    </tr>\n",
       "    <tr>\n",
       "      <th>4</th>\n",
       "      <td>2</td>\n",
       "      <td>m</td>\n",
       "    </tr>\n",
       "  </tbody>\n",
       "</table>\n",
       "</div>"
      ],
      "text/plain": [
       "   mm gender\n",
       "0   3      m\n",
       "1   2      m\n",
       "2   2      m\n",
       "3   4      m\n",
       "4   2      m"
      ]
     },
     "execution_count": 4,
     "metadata": {},
     "output_type": "execute_result"
    }
   ],
   "source": [
    "male_mm = [int(m) for m in np.random.normal(3, .5, size=n_size)]\n",
    "df_male = pd.DataFrame(dict(mm=male_mm,\n",
    "                            gender=['m'] * n_size\n",
    "                           ))\n",
    "df_male.head()"
   ]
  },
  {
   "cell_type": "code",
   "execution_count": 5,
   "id": "957d2d5f-2ef6-45ca-bb3f-cbf69d0224fa",
   "metadata": {},
   "outputs": [
    {
     "name": "stdout",
     "output_type": "stream",
     "text": [
      "<class 'pandas.core.frame.DataFrame'>\n",
      "RangeIndex: 200 entries, 0 to 199\n",
      "Data columns (total 2 columns):\n",
      " #   Column  Non-Null Count  Dtype \n",
      "---  ------  --------------  ----- \n",
      " 0   mm      200 non-null    int64 \n",
      " 1   gender  200 non-null    object\n",
      "dtypes: int64(1), object(1)\n",
      "memory usage: 3.2+ KB\n"
     ]
    }
   ],
   "source": [
    "df = pd.concat([df_female, df_male], ignore_index=True)\n",
    "df.info()"
   ]
  },
  {
   "cell_type": "markdown",
   "id": "b463a50f-5f09-4e4f-b8e0-5180cbaf040b",
   "metadata": {},
   "source": [
    "## 2. import DAindex and quantify the inequality\n",
    "If DAindex is not installed, run \n",
    "```python\n",
    "!pip install DAindex\n",
    "```"
   ]
  },
  {
   "cell_type": "code",
   "execution_count": 6,
   "id": "13e3cc0e-0c10-42b9-9e41-c06653c322db",
   "metadata": {},
   "outputs": [],
   "source": [
    "from DAindex import Util as qutil"
   ]
  },
  {
   "cell_type": "code",
   "execution_count": 7,
   "id": "afeba61f-8430-4289-a17d-17e831fc9cc8",
   "metadata": {},
   "outputs": [
    {
     "name": "stderr",
     "output_type": "stream",
     "text": [
      "/Users/honghan.wu/opt/anaconda3/envs/nlp/lib/python3.8/site-packages/sklearn/model_selection/_search.py:922: UserWarning: One or more of the test scores are non-finite: [         nan  23.23062002   9.36767641   1.25837431  -4.49484801\n",
      "  -8.93384797 -12.38704256 -14.89635534 -16.59133041 -17.72633741\n",
      " -18.53890755 -19.18929533 -19.76925922 -20.325904   -20.88094049\n",
      " -21.44278001 -22.01331612 -22.59149283 -23.17510213 -23.7616535 ]\n",
      "  warnings.warn(\n",
      "/Users/honghan.wu/opt/anaconda3/envs/nlp/lib/python3.8/site-packages/sklearn/model_selection/_search.py:922: UserWarning: One or more of the test scores are non-finite: [         nan -12.08285914   1.12919725  -1.96621596  -5.96460021\n",
      "  -9.59268319 -12.61681995 -14.90615956 -16.52120281 -17.65445178\n",
      " -18.49350688 -19.17307263 -19.77612921 -20.3485012  -20.91311238\n",
      " -21.48004487 -22.05264902 -22.6309658  -23.2135547  -23.79843762]\n",
      "  warnings.warn(\n"
     ]
    },
    {
     "data": {
      "text/plain": [
       "({'overall-prob': 0.97, 'one-step': 0.62, 'k-step': 0.059112, '|X|': 100},\n",
       " {'overall-prob': 0.9999, 'one-step': 0.5, 'k-step': 0.031392, '|X|': 100},\n",
       " 0.8830275229357796)"
      ]
     },
     "execution_count": 7,
     "metadata": {},
     "output_type": "execute_result"
    },
    {
     "data": {
      "image/png": "[encoded data removed]",
      "text/plain": [
       "<Figure size 800x200 with 1 Axes>"
      ]
     },
     "metadata": {
      "needs_background": "light"
     },
     "output_type": "display_data"
    },
    {
     "data": {
      "image/png": "[encoded data removed]",
      "text/plain": [
       "<Figure size 800x200 with 1 Axes>"
      ]
     },
     "metadata": {
      "needs_background": "light"
     },
     "output_type": "display_data"
    }
   ],
   "source": [
    "qutil.compare_two_groups(df[df.gender=='f'], df[df.gender=='m'], 'mm', 'female', 'male', '#Multimorbidity', 3, is_discrete=True)"
   ]
  },
  {
   "cell_type": "code",
   "execution_count": null,
   "id": "7d6769e3-0fac-4bd6-a5c7-b00d961e606b",
   "metadata": {},
   "outputs": [],
   "source": []
  }
 ],
 "metadata": {
  "kernelspec": {
   "display_name": "Python 3",
   "language": "python",
   "name": "python3"
  },
  "language_info": {
   "codemirror_mode": {
    "name": "ipython",
    "version": 3
   },
   "file_extension": ".py",
   "mimetype": "text/x-python",
   "name": "python",
   "nbconvert_exporter": "python",
   "pygments_lexer": "ipython3",
   "version": "3.8.8"
  }
 },
 "nbformat": 4,
 "nbformat_minor": 5
}
