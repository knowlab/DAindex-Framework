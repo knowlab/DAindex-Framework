{
 "cells": [
  {
   "cell_type": "code",
   "execution_count": 2,
   "id": "a939f0d3-face-4098-a5d1-cbd90f697d84",
   "metadata": {},
   "outputs": [],
   "source": [
    "import psycopg2\n",
    "import json\n",
    "import codecs"
   ]
  },
  {
   "cell_type": "code",
   "execution_count": 3,
   "id": "50afa76b-427e-4e9a-bce1-0d586c33115e",
   "metadata": {},
   "outputs": [],
   "source": [
    "diagnosis_code = 'V420' # Kidney replaced by transplant\n",
    "case_disease_name = 'Kidney_transplant'"
   ]
  },
  {
   "cell_type": "markdown",
   "id": "8c187b1a-b3e4-44e3-a868-c6eec84b4440",
   "metadata": {},
   "source": [
    "# 1. derive case-control cohort "
   ]
  },
  {
   "cell_type": "code",
   "execution_count": 3,
   "id": "bff0dae4-f070-42a1-acc0-ca8dde350ac9",
   "metadata": {},
   "outputs": [],
   "source": [
    "def load_json_data(file_path, encoding='utf-8'):\n",
    "    data = None\n",
    "    with codecs.open(file_path, encoding=encoding) as rf:\n",
    "        data = json.load(rf)\n",
    "    return data\n",
    "\n",
    "\n",
    "def query(conn_setting, sql):\n",
    "    conn = psycopg2.connect(\n",
    "            host=conn_setting['host'],\n",
    "            database=conn_setting['database'],\n",
    "            user=conn_setting['user'],\n",
    "            password=conn_setting['password'])\n",
    "    \n",
    "    ret = None\n",
    "    try:\n",
    "        # create a cursor\n",
    "        cur = conn.cursor()\n",
    "        cur.execute(sql)\n",
    "        ret = cur.fetchall()\n",
    "\n",
    "        # close the communication with the PostgreSQL\n",
    "        cur.close()\n",
    "    finally:\n",
    "        if conn is not None:\n",
    "            conn.close()\n",
    "        return ret\n",
    "    \n",
    "\n",
    "settings = load_json_data('./mimic_db_cnn.json')\n"
   ]
  },
  {
   "cell_type": "markdown",
   "id": "c83af6cc-73d7-46c7-b5ee-0b2fec9146fa",
   "metadata": {},
   "source": [
    "## functions for retrieving patients by ICD-9 code or disease label"
   ]
  },
  {
   "cell_type": "code",
   "execution_count": 4,
   "id": "3e4d57f0-f2ad-44a5-8489-d8af3fba778f",
   "metadata": {},
   "outputs": [],
   "source": [
    "\n",
    "## get ICD 9 codes from disease label\n",
    "def get_icd9_by_diag_label(disease):\n",
    "    sql = \"\"\"\n",
    "    select icd9_code, long_title from mimiciii.d_icd_diagnoses where LOWER(long_title) like '%{disease}%' or short_title like '%{disease}%'\n",
    "    \"\"\"\n",
    "    sql = sql.format(**{'disease': disease})\n",
    "    disease_codes_ret = query(settings, sql)\n",
    "\n",
    "    disease_codes = [t[0] for t in disease_codes_ret]\n",
    "    print('disease icd9 codes', disease_codes)\n",
    "    return disease_codes\n",
    "\n",
    "## get patient stats (grouped by icd9)\n",
    "def get_patients_stats_by_icd9(codes):\n",
    "    sql = \"\"\"\n",
    "    select count(*) num, dd.long_title from mimiciii.diagnoses_icd d, mimiciii.d_icd_diagnoses dd \n",
    "    where d.icd9_code in (%s) \n",
    "        and dd.icd9_code=d.icd9_code group by dd.long_title order by num desc\n",
    "    \"\"\"\n",
    "\n",
    "    sql = sql % ','.join([\"'%s'\" % s for s in codes])\n",
    "    case_code_stats = query(settings, sql)\n",
    "    print('case_code_stats', case_code_stats)\n",
    "    \n",
    "\n",
    "## get patients' subject id and admission_id lists by icd code\n",
    "def get_patients_by_icd9(codes, other_conditions=None):\n",
    "    sql = \"\"\"\n",
    "    select distinct subject_id, hadm_id from mimiciii.diagnoses_icd d\n",
    "    where d.icd9_code in ({icd_codes})\n",
    "    {other_conditions}\n",
    "    \"\"\"\n",
    "    s_other_conditions = ''\n",
    "    if other_conditions is not None:\n",
    "        s_other_conditions = ' and '.join(other_conditions)\n",
    "    sql = sql.format(**{'icd_codes': ','.join([\"'%s'\" % s for s in codes]),\n",
    "                        'other_conditions': s_other_conditions\n",
    "                        })\n",
    "    disease_patients = query(settings, sql)\n",
    "    print('distinct admissions', len(disease_patients))\n",
    "    return disease_patients"
   ]
  },
  {
   "cell_type": "markdown",
   "id": "afe70cc4-0177-4c5e-a744-866036783bf9",
   "metadata": {},
   "source": [
    "## get subject-hadm ids for cases\n",
    "- `subject_id` is the patient id \n",
    "- `hadm_id` is the unique admission id"
   ]
  },
  {
   "cell_type": "code",
   "execution_count": 5,
   "id": "05c00b5c-c8f2-43e3-92b3-175650557ec9",
   "metadata": {},
   "outputs": [
    {
     "name": "stdout",
     "output_type": "stream",
     "text": [
      "case_code_stats [(337, 'Kidney replaced by transplant')]\n",
      "distinct admissions 337\n"
     ]
    }
   ],
   "source": [
    "# get case icd codes\n",
    "# case_codes = get_icd9_by_diag_label(case_disease_name)\n",
    "case_codes = [diagnosis_code]\n",
    "\n",
    "other_conditions = [\"ethnicity = \"]\n",
    "\n",
    "# get patient stats by individual icd9 code\n",
    "get_patients_stats_by_icd9(case_codes)\n",
    "\n",
    "# get case patient ids\n",
    "case_patients = get_patients_by_icd9(case_codes)"
   ]
  },
  {
   "cell_type": "markdown",
   "id": "c335b1a9-d9ff-4bd2-8457-60a87f00522d",
   "metadata": {},
   "source": [
    "## demographic info of patients"
   ]
  },
  {
   "cell_type": "code",
   "execution_count": 6,
   "id": "86747aa6-2202-4cfe-9fdc-80d025354f84",
   "metadata": {},
   "outputs": [],
   "source": [
    "import pandas as pd\n",
    "\n",
    "sql = \"\"\"\n",
    "select \n",
    "    a.subject_id, a.hadm_id, a.admittime, p.dob, diagnosis,\n",
    "    a.ethnicity,\n",
    "    date_part('year', age(a.admittime, p.dob)), \n",
    "    p.gender, \n",
    "    date_part('day', age(a.dischtime, a.admittime)),\n",
    "    date_part('day', age(a.deathtime, a.admittime)) \n",
    "    \n",
    "    from mimiciii.admissions a, mimiciii.patients p where a.subject_id=p.subject_id \n",
    "    and a.subject_id || ',' || a.hadm_id in (%s)\n",
    "\"\"\"\n",
    "sql = sql % ','.join([\"'%s,%s'\" % (t[0], t[1]) for t in case_patients])\n",
    "cohort = query(settings, sql)\n"
   ]
  },
  {
   "cell_type": "code",
   "execution_count": 11,
   "id": "9bc7a2b6-44bf-4561-aa33-3d4f977c926c",
   "metadata": {},
   "outputs": [
    {
     "data": {
      "text/html": [
       "<div>\n",
       "<style scoped>\n",
       "    .dataframe tbody tr th:only-of-type {\n",
       "        vertical-align: middle;\n",
       "    }\n",
       "\n",
       "    .dataframe tbody tr th {\n",
       "        vertical-align: top;\n",
       "    }\n",
       "\n",
       "    .dataframe thead th {\n",
       "        text-align: right;\n",
       "    }\n",
       "</style>\n",
       "<table border=\"1\" class=\"dataframe\">\n",
       "  <thead>\n",
       "    <tr style=\"text-align: right;\">\n",
       "      <th></th>\n",
       "      <th>patient_id</th>\n",
       "      <th>admission_id</th>\n",
       "      <th>adm_time</th>\n",
       "      <th>DoB</th>\n",
       "      <th>diag</th>\n",
       "      <th>ethnicity</th>\n",
       "      <th>age</th>\n",
       "      <th>gender</th>\n",
       "      <th>LoS</th>\n",
       "      <th>Adm2Dth</th>\n",
       "    </tr>\n",
       "  </thead>\n",
       "  <tbody>\n",
       "    <tr>\n",
       "      <th>0</th>\n",
       "      <td>361</td>\n",
       "      <td>148959</td>\n",
       "      <td>2122-01-05 22:58:00</td>\n",
       "      <td>2067-11-18</td>\n",
       "      <td>DEEP VEIN THROMBOSIS;HEMOCULT POSITIVE</td>\n",
       "      <td>MULTI RACE ETHNICITY</td>\n",
       "      <td>54.0</td>\n",
       "      <td>M</td>\n",
       "      <td>18.0</td>\n",
       "      <td>NaN</td>\n",
       "    </tr>\n",
       "    <tr>\n",
       "      <th>1</th>\n",
       "      <td>323</td>\n",
       "      <td>192631</td>\n",
       "      <td>2115-05-17 21:06:00</td>\n",
       "      <td>2062-12-24</td>\n",
       "      <td>ACUTE MI</td>\n",
       "      <td>WHITE</td>\n",
       "      <td>52.0</td>\n",
       "      <td>M</td>\n",
       "      <td>9.0</td>\n",
       "      <td>NaN</td>\n",
       "    </tr>\n",
       "    <tr>\n",
       "      <th>2</th>\n",
       "      <td>323</td>\n",
       "      <td>106158</td>\n",
       "      <td>2116-05-03 23:07:00</td>\n",
       "      <td>2062-12-24</td>\n",
       "      <td>CONGESTIVE HEART FAILURE</td>\n",
       "      <td>WHITE</td>\n",
       "      <td>53.0</td>\n",
       "      <td>M</td>\n",
       "      <td>7.0</td>\n",
       "      <td>NaN</td>\n",
       "    </tr>\n",
       "    <tr>\n",
       "      <th>3</th>\n",
       "      <td>323</td>\n",
       "      <td>143334</td>\n",
       "      <td>2120-01-11 15:46:00</td>\n",
       "      <td>2062-12-24</td>\n",
       "      <td>SEPSIS;TELEMETRY</td>\n",
       "      <td>WHITE</td>\n",
       "      <td>57.0</td>\n",
       "      <td>M</td>\n",
       "      <td>6.0</td>\n",
       "      <td>NaN</td>\n",
       "    </tr>\n",
       "    <tr>\n",
       "      <th>4</th>\n",
       "      <td>327</td>\n",
       "      <td>146750</td>\n",
       "      <td>2194-04-28 09:15:00</td>\n",
       "      <td>2152-03-25</td>\n",
       "      <td>MALUNION FRACTURE RIGHT WRIST/SDA</td>\n",
       "      <td>WHITE</td>\n",
       "      <td>42.0</td>\n",
       "      <td>F</td>\n",
       "      <td>1.0</td>\n",
       "      <td>NaN</td>\n",
       "    </tr>\n",
       "    <tr>\n",
       "      <th>...</th>\n",
       "      <td>...</td>\n",
       "      <td>...</td>\n",
       "      <td>...</td>\n",
       "      <td>...</td>\n",
       "      <td>...</td>\n",
       "      <td>...</td>\n",
       "      <td>...</td>\n",
       "      <td>...</td>\n",
       "      <td>...</td>\n",
       "      <td>...</td>\n",
       "    </tr>\n",
       "    <tr>\n",
       "      <th>95</th>\n",
       "      <td>11003</td>\n",
       "      <td>163654</td>\n",
       "      <td>2123-03-01 23:30:00</td>\n",
       "      <td>2067-09-29</td>\n",
       "      <td>FEVER</td>\n",
       "      <td>WHITE</td>\n",
       "      <td>55.0</td>\n",
       "      <td>M</td>\n",
       "      <td>8.0</td>\n",
       "      <td>NaN</td>\n",
       "    </tr>\n",
       "    <tr>\n",
       "      <th>96</th>\n",
       "      <td>9384</td>\n",
       "      <td>187655</td>\n",
       "      <td>2106-11-07 19:52:00</td>\n",
       "      <td>2046-11-22</td>\n",
       "      <td>CHEST PAIT;+ETT\\CATH</td>\n",
       "      <td>WHITE</td>\n",
       "      <td>59.0</td>\n",
       "      <td>M</td>\n",
       "      <td>7.0</td>\n",
       "      <td>NaN</td>\n",
       "    </tr>\n",
       "    <tr>\n",
       "      <th>97</th>\n",
       "      <td>11338</td>\n",
       "      <td>109986</td>\n",
       "      <td>2122-07-12 07:33:00</td>\n",
       "      <td>2077-07-01</td>\n",
       "      <td>INSULIN DEPENDENT DIABETES</td>\n",
       "      <td>WHITE</td>\n",
       "      <td>45.0</td>\n",
       "      <td>M</td>\n",
       "      <td>12.0</td>\n",
       "      <td>NaN</td>\n",
       "    </tr>\n",
       "    <tr>\n",
       "      <th>98</th>\n",
       "      <td>11472</td>\n",
       "      <td>142545</td>\n",
       "      <td>2150-02-17 12:58:00</td>\n",
       "      <td>2101-02-02</td>\n",
       "      <td>MI/S/P TRANSPLANT\\CATH</td>\n",
       "      <td>WHITE</td>\n",
       "      <td>49.0</td>\n",
       "      <td>M</td>\n",
       "      <td>6.0</td>\n",
       "      <td>NaN</td>\n",
       "    </tr>\n",
       "    <tr>\n",
       "      <th>99</th>\n",
       "      <td>10957</td>\n",
       "      <td>143939</td>\n",
       "      <td>2169-11-27 14:32:00</td>\n",
       "      <td>2140-12-29</td>\n",
       "      <td>S/P KIDNEY TRANSPLANT;NAUSEA;VOMITING</td>\n",
       "      <td>WHITE</td>\n",
       "      <td>28.0</td>\n",
       "      <td>M</td>\n",
       "      <td>6.0</td>\n",
       "      <td>NaN</td>\n",
       "    </tr>\n",
       "  </tbody>\n",
       "</table>\n",
       "<p>100 rows × 10 columns</p>\n",
       "</div>"
      ],
      "text/plain": [
       "    patient_id  admission_id            adm_time        DoB  \\\n",
       "0          361        148959 2122-01-05 22:58:00 2067-11-18   \n",
       "1          323        192631 2115-05-17 21:06:00 2062-12-24   \n",
       "2          323        106158 2116-05-03 23:07:00 2062-12-24   \n",
       "3          323        143334 2120-01-11 15:46:00 2062-12-24   \n",
       "4          327        146750 2194-04-28 09:15:00 2152-03-25   \n",
       "..         ...           ...                 ...        ...   \n",
       "95       11003        163654 2123-03-01 23:30:00 2067-09-29   \n",
       "96        9384        187655 2106-11-07 19:52:00 2046-11-22   \n",
       "97       11338        109986 2122-07-12 07:33:00 2077-07-01   \n",
       "98       11472        142545 2150-02-17 12:58:00 2101-02-02   \n",
       "99       10957        143939 2169-11-27 14:32:00 2140-12-29   \n",
       "\n",
       "                                      diag             ethnicity   age gender  \\\n",
       "0   DEEP VEIN THROMBOSIS;HEMOCULT POSITIVE  MULTI RACE ETHNICITY  54.0      M   \n",
       "1                                 ACUTE MI                 WHITE  52.0      M   \n",
       "2                 CONGESTIVE HEART FAILURE                 WHITE  53.0      M   \n",
       "3                         SEPSIS;TELEMETRY                 WHITE  57.0      M   \n",
       "4        MALUNION FRACTURE RIGHT WRIST/SDA                 WHITE  42.0      F   \n",
       "..                                     ...                   ...   ...    ...   \n",
       "95                                   FEVER                 WHITE  55.0      M   \n",
       "96                    CHEST PAIT;+ETT\\CATH                 WHITE  59.0      M   \n",
       "97              INSULIN DEPENDENT DIABETES                 WHITE  45.0      M   \n",
       "98                  MI/S/P TRANSPLANT\\CATH                 WHITE  49.0      M   \n",
       "99   S/P KIDNEY TRANSPLANT;NAUSEA;VOMITING                 WHITE  28.0      M   \n",
       "\n",
       "     LoS  Adm2Dth  \n",
       "0   18.0      NaN  \n",
       "1    9.0      NaN  \n",
       "2    7.0      NaN  \n",
       "3    6.0      NaN  \n",
       "4    1.0      NaN  \n",
       "..   ...      ...  \n",
       "95   8.0      NaN  \n",
       "96   7.0      NaN  \n",
       "97  12.0      NaN  \n",
       "98   6.0      NaN  \n",
       "99   6.0      NaN  \n",
       "\n",
       "[100 rows x 10 columns]"
      ]
     },
     "execution_count": 11,
     "metadata": {},
     "output_type": "execute_result"
    }
   ],
   "source": [
    "df_cohort = pd.DataFrame(cohort, columns=['patient_id', 'admission_id', \n",
    "                                          'adm_time', 'DoB', 'diag', 'ethnicity',\n",
    "                                          'age', 'gender', 'LoS', 'Adm2Dth'])\n",
    "df_cohort.head(100)"
   ]
  },
  {
   "cell_type": "code",
   "execution_count": 12,
   "id": "cb99d0c3-c1fc-484b-b71d-d020cd7e815f",
   "metadata": {
    "scrolled": true
   },
   "outputs": [
    {
     "data": {
      "text/html": [
       "<div>\n",
       "<style scoped>\n",
       "    .dataframe tbody tr th:only-of-type {\n",
       "        vertical-align: middle;\n",
       "    }\n",
       "\n",
       "    .dataframe tbody tr th {\n",
       "        vertical-align: top;\n",
       "    }\n",
       "\n",
       "    .dataframe thead th {\n",
       "        text-align: right;\n",
       "    }\n",
       "</style>\n",
       "<table border=\"1\" class=\"dataframe\">\n",
       "  <thead>\n",
       "    <tr style=\"text-align: right;\">\n",
       "      <th></th>\n",
       "      <th>patient_id</th>\n",
       "      <th>admission_id</th>\n",
       "      <th>age</th>\n",
       "      <th>LoS</th>\n",
       "      <th>Adm2Dth</th>\n",
       "      <th>case</th>\n",
       "    </tr>\n",
       "  </thead>\n",
       "  <tbody>\n",
       "    <tr>\n",
       "      <th>count</th>\n",
       "      <td>337.000000</td>\n",
       "      <td>337.000000</td>\n",
       "      <td>337.000000</td>\n",
       "      <td>337.000000</td>\n",
       "      <td>24.000000</td>\n",
       "      <td>337.0</td>\n",
       "    </tr>\n",
       "    <tr>\n",
       "      <th>mean</th>\n",
       "      <td>30137.089021</td>\n",
       "      <td>150473.246291</td>\n",
       "      <td>54.477745</td>\n",
       "      <td>8.504451</td>\n",
       "      <td>9.125000</td>\n",
       "      <td>1.0</td>\n",
       "    </tr>\n",
       "    <tr>\n",
       "      <th>std</th>\n",
       "      <td>27277.902364</td>\n",
       "      <td>29159.005737</td>\n",
       "      <td>18.262152</td>\n",
       "      <td>6.141739</td>\n",
       "      <td>8.082792</td>\n",
       "      <td>0.0</td>\n",
       "    </tr>\n",
       "    <tr>\n",
       "      <th>min</th>\n",
       "      <td>323.000000</td>\n",
       "      <td>100229.000000</td>\n",
       "      <td>17.000000</td>\n",
       "      <td>0.000000</td>\n",
       "      <td>0.000000</td>\n",
       "      <td>1.0</td>\n",
       "    </tr>\n",
       "    <tr>\n",
       "      <th>25%</th>\n",
       "      <td>9384.000000</td>\n",
       "      <td>124081.000000</td>\n",
       "      <td>46.000000</td>\n",
       "      <td>4.000000</td>\n",
       "      <td>0.750000</td>\n",
       "      <td>1.0</td>\n",
       "    </tr>\n",
       "    <tr>\n",
       "      <th>50%</th>\n",
       "      <td>21015.000000</td>\n",
       "      <td>149765.000000</td>\n",
       "      <td>54.000000</td>\n",
       "      <td>7.000000</td>\n",
       "      <td>10.000000</td>\n",
       "      <td>1.0</td>\n",
       "    </tr>\n",
       "    <tr>\n",
       "      <th>75%</th>\n",
       "      <td>48327.000000</td>\n",
       "      <td>175626.000000</td>\n",
       "      <td>62.000000</td>\n",
       "      <td>11.000000</td>\n",
       "      <td>15.000000</td>\n",
       "      <td>1.0</td>\n",
       "    </tr>\n",
       "    <tr>\n",
       "      <th>max</th>\n",
       "      <td>99650.000000</td>\n",
       "      <td>199955.000000</td>\n",
       "      <td>302.000000</td>\n",
       "      <td>28.000000</td>\n",
       "      <td>23.000000</td>\n",
       "      <td>1.0</td>\n",
       "    </tr>\n",
       "  </tbody>\n",
       "</table>\n",
       "</div>"
      ],
      "text/plain": [
       "         patient_id   admission_id         age         LoS    Adm2Dth   case\n",
       "count    337.000000     337.000000  337.000000  337.000000  24.000000  337.0\n",
       "mean   30137.089021  150473.246291   54.477745    8.504451   9.125000    1.0\n",
       "std    27277.902364   29159.005737   18.262152    6.141739   8.082792    0.0\n",
       "min      323.000000  100229.000000   17.000000    0.000000   0.000000    1.0\n",
       "25%     9384.000000  124081.000000   46.000000    4.000000   0.750000    1.0\n",
       "50%    21015.000000  149765.000000   54.000000    7.000000  10.000000    1.0\n",
       "75%    48327.000000  175626.000000   62.000000   11.000000  15.000000    1.0\n",
       "max    99650.000000  199955.000000  302.000000   28.000000  23.000000    1.0"
      ]
     },
     "execution_count": 12,
     "metadata": {},
     "output_type": "execute_result"
    }
   ],
   "source": [
    "df_cohort['case'] = 1\n",
    "df_cohort.describe()"
   ]
  },
  {
   "cell_type": "code",
   "execution_count": 13,
   "id": "0ff29abd-7615-4cf2-9af9-aa0cdfe2e148",
   "metadata": {},
   "outputs": [],
   "source": [
    "## inclusion criteria\n",
    "df_cohort.drop(df_cohort[df_cohort['age'] < 18].index, inplace=True)"
   ]
  },
  {
   "cell_type": "markdown",
   "id": "91616262-6461-431d-9433-2f4256383343",
   "metadata": {},
   "source": [
    "## match control cohort"
   ]
  },
  {
   "cell_type": "code",
   "execution_count": 14,
   "id": "31d9c797-8d5f-4e33-b143-33eed879106a",
   "metadata": {},
   "outputs": [
    {
     "name": "stdout",
     "output_type": "stream",
     "text": [
      "58639\n"
     ]
    }
   ],
   "source": [
    "sql = \"\"\"\n",
    "select \n",
    "    a.subject_id, a.hadm_id, a.diagnosis,\n",
    "    date_part('year', age(a.admittime, p.dob)) \n",
    "    from mimiciii.admissions a, mimiciii.patients p\n",
    "    where a.subject_id=p.subject_id \n",
    "    and a.subject_id || ',' || a.hadm_id not in (%s)\n",
    "\"\"\"\n",
    "sql = sql % ','.join([\"'%s,%s'\" % (t[0], t[1]) for t in case_patients])\n",
    "controls = query(settings, sql)\n",
    "print(len(controls))"
   ]
  },
  {
   "cell_type": "code",
   "execution_count": 15,
   "id": "7601754b-873e-414f-af48-9c2a5f38dac9",
   "metadata": {},
   "outputs": [
    {
     "name": "stdout",
     "output_type": "stream",
     "text": [
      "diag to control dict generated\n",
      "not_matched 155\n",
      "total matched control 654\n",
      "sample [(14640, 152772, 'ACUTE MI', 57.0), (13192, 175809, 'ACUTE MI', 49.0), (8906, 194915, 'ACUTE MI', 55.0)]\n"
     ]
    }
   ],
   "source": [
    "import random\n",
    "\n",
    "# matching usnig diagnosis and similar age\n",
    "def match_cohort(r, d2c, k, already_matched):\n",
    "    matched = []\n",
    "    if r['diag'] not in d2c:\n",
    "        return matched\n",
    "    for c in d2c[r['diag']]:\n",
    "        if abs(r['age'] - c[3]) <=5 and c not in already_matched:\n",
    "            matched.append(c)\n",
    "    random.shuffle(matched)\n",
    "    return matched[:k]\n",
    "\n",
    "# matching only with age similarity\n",
    "def match_cohort_by_age(r, controls, k, already_matched):\n",
    "    matched = []\n",
    "    for c in controls:\n",
    "        if abs(r['age'] - c[3]) <=2 and c not in already_matched:\n",
    "            if len(matched) > 3 * k:\n",
    "                break\n",
    "            matched.append(c)\n",
    "    random.shuffle(matched)\n",
    "    return matched[:k]\n",
    "\n",
    "\n",
    "d2c = {}\n",
    "for c in controls:\n",
    "    if c[2] not in d2c:\n",
    "        d2c[c[2]] = []\n",
    "    d2c[c[2]].append(c)\n",
    "    \n",
    "print('diag to control dict generated')\n",
    "    \n",
    "k = 4\n",
    "not_matched = 0\n",
    "\n",
    "matched_controls = []\n",
    "for _, r in df_cohort.iterrows():\n",
    "    matched = match_cohort(r, d2c, k, matched_controls)\n",
    "#     matched = match_cohort_by_age(r, controls, k, matched_controls)\n",
    "    if len(matched) == 0:\n",
    "        not_matched += 1\n",
    "    if len(matched) > 0:\n",
    "        matched_controls += matched\n",
    "\n",
    "print('not_matched', not_matched)\n",
    "print('total matched control', len(matched_controls))\n",
    "print('sample', matched_controls[:3])"
   ]
  },
  {
   "cell_type": "markdown",
   "id": "7b47d49c-91c2-4022-8dea-bfb6bdd8dbcb",
   "metadata": {},
   "source": [
    "## load matched cohort to the dataframe"
   ]
  },
  {
   "cell_type": "code",
   "execution_count": 16,
   "id": "2aa25452-461f-42d7-95fe-04859511a2c0",
   "metadata": {
    "scrolled": true
   },
   "outputs": [
    {
     "name": "stdout",
     "output_type": "stream",
     "text": [
      "loaded data size 654\n"
     ]
    }
   ],
   "source": [
    "sql = \"\"\"\n",
    "select \n",
    "    a.subject_id, a.hadm_id, a.admittime, p.dob, diagnosis,\n",
    "    a.ethnicity,\n",
    "    date_part('year', age(a.admittime, p.dob)), \n",
    "    p.gender, \n",
    "    date_part('day', age(a.dischtime, a.admittime)),\n",
    "    date_part('day', age(a.deathtime, a.admittime)) \n",
    "    \n",
    "    from mimiciii.admissions a, mimiciii.patients p where a.subject_id=p.subject_id \n",
    "    and a.subject_id || ',' || a.hadm_id in (%s)\n",
    "\"\"\"\n",
    "sql = sql % ','.join([\"'%s,%s'\" % (t[0], t[1]) for t in matched_controls])\n",
    "matched_control_data = query(settings, sql)\n",
    "print('loaded data size', len(matched_control_data))"
   ]
  },
  {
   "cell_type": "markdown",
   "id": "d3dc4911-f64c-42d9-93ec-311d82370baf",
   "metadata": {},
   "source": [
    "## serialisation point: save cohort to csv file"
   ]
  },
  {
   "cell_type": "code",
   "execution_count": 18,
   "id": "366ce23e-f6cf-4383-bc17-35a0ba02ed84",
   "metadata": {},
   "outputs": [
    {
     "name": "stdout",
     "output_type": "stream",
     "text": [
      "saved\n"
     ]
    }
   ],
   "source": [
    "# merge matched control to the cohort dataframe\n",
    "df_control = pd.DataFrame(matched_control_data, columns=df_cohort.columns[:10])\n",
    "df_control['case'] = 0\n",
    "df_cohort = df_cohort.append(df_control)\n",
    "\n",
    "# save csv\n",
    "csv_file = './%s_case_control.csv' % case_disease_name\n",
    "df_cohort.to_csv(csv_file, index=False)\n",
    "print('saved')"
   ]
  },
  {
   "cell_type": "markdown",
   "id": "dba0e05e-0256-4a2e-9894-5e91479b7f07",
   "metadata": {
    "tags": []
   },
   "source": [
    "# 2. load clinical attributes for prediction"
   ]
  },
  {
   "cell_type": "code",
   "execution_count": 40,
   "id": "9abed3ee-82c2-478c-be1b-fdf43db89a8c",
   "metadata": {},
   "outputs": [
    {
     "data": {
      "text/html": [
       "<div>\n",
       "<style scoped>\n",
       "    .dataframe tbody tr th:only-of-type {\n",
       "        vertical-align: middle;\n",
       "    }\n",
       "\n",
       "    .dataframe tbody tr th {\n",
       "        vertical-align: top;\n",
       "    }\n",
       "\n",
       "    .dataframe thead th {\n",
       "        text-align: right;\n",
       "    }\n",
       "</style>\n",
       "<table border=\"1\" class=\"dataframe\">\n",
       "  <thead>\n",
       "    <tr style=\"text-align: right;\">\n",
       "      <th></th>\n",
       "      <th>patient_id</th>\n",
       "      <th>admission_id</th>\n",
       "      <th>adm_time</th>\n",
       "      <th>DoB</th>\n",
       "      <th>diag</th>\n",
       "      <th>ethnicity</th>\n",
       "      <th>age</th>\n",
       "      <th>gender</th>\n",
       "      <th>LoS</th>\n",
       "      <th>Adm2Dth</th>\n",
       "      <th>case</th>\n",
       "    </tr>\n",
       "  </thead>\n",
       "  <tbody>\n",
       "    <tr>\n",
       "      <th>0</th>\n",
       "      <td>361</td>\n",
       "      <td>148959</td>\n",
       "      <td>2122-01-05 22:58:00</td>\n",
       "      <td>2067-11-18</td>\n",
       "      <td>DEEP VEIN THROMBOSIS;HEMOCULT POSITIVE</td>\n",
       "      <td>MULTI RACE ETHNICITY</td>\n",
       "      <td>54.0</td>\n",
       "      <td>M</td>\n",
       "      <td>18.0</td>\n",
       "      <td>NaN</td>\n",
       "      <td>1</td>\n",
       "    </tr>\n",
       "    <tr>\n",
       "      <th>1</th>\n",
       "      <td>323</td>\n",
       "      <td>192631</td>\n",
       "      <td>2115-05-17 21:06:00</td>\n",
       "      <td>2062-12-24</td>\n",
       "      <td>ACUTE MI</td>\n",
       "      <td>WHITE</td>\n",
       "      <td>52.0</td>\n",
       "      <td>M</td>\n",
       "      <td>9.0</td>\n",
       "      <td>NaN</td>\n",
       "      <td>1</td>\n",
       "    </tr>\n",
       "  </tbody>\n",
       "</table>\n",
       "</div>"
      ],
      "text/plain": [
       "   patient_id  admission_id            adm_time        DoB  \\\n",
       "0         361        148959 2122-01-05 22:58:00 2067-11-18   \n",
       "1         323        192631 2115-05-17 21:06:00 2062-12-24   \n",
       "\n",
       "                                     diag             ethnicity   age gender  \\\n",
       "0  DEEP VEIN THROMBOSIS;HEMOCULT POSITIVE  MULTI RACE ETHNICITY  54.0      M   \n",
       "1                                ACUTE MI                 WHITE  52.0      M   \n",
       "\n",
       "    LoS  Adm2Dth  case  \n",
       "0  18.0      NaN     1  \n",
       "1   9.0      NaN     1  "
      ]
     },
     "execution_count": 40,
     "metadata": {},
     "output_type": "execute_result"
    }
   ],
   "source": [
    "df_cohort.head(2)"
   ]
  },
  {
   "cell_type": "markdown",
   "id": "7cd92162-bb5d-4720-b964-cb141650c0bd",
   "metadata": {
    "tags": []
   },
   "source": [
    "- Chronic heart failure codes using `428%`\n",
    "- leukemia using label matched icd9 codes\n",
    "- cirrhosis using label matched icd9 codes"
   ]
  },
  {
   "cell_type": "code",
   "execution_count": 83,
   "id": "b4997ee8-fbee-4524-b37a-2033a105d000",
   "metadata": {},
   "outputs": [],
   "source": [
    "def binary_feature_query(icd_codes, patient_ids, like=False):\n",
    "    sql = \"\"\"\n",
    "    select count(*), subject_id from mimiciii.diagnoses_icd d where d.icd9_code {icd_code_pattern} and d.subject_id in ({patient_ids})\n",
    "    group by subject_id\n",
    "    \"\"\" \n",
    "    if like:\n",
    "        icd_code_pattern = \"like '%s'\" % icd_codes\n",
    "    else:\n",
    "        icd_code_pattern = 'in (%s)' %(','.join([\"'%s'\" % d for d in icd_codes]))\n",
    "    sql = sql.format(**{'icd_code_pattern': icd_code_pattern,\n",
    "                        'patient_ids': ','.join([\"'%s'\" % d for d in patient_ids])\n",
    "                       })\n",
    "    return query(settings, sql)\n",
    "\n",
    "def add_feature_by_query(df, icd_codes, feature_name, index_field='patient_id', like=False):\n",
    "    unique_patients = list(set(df[index_field].tolist()))\n",
    "    print('unique patient #', len(unique_patients))\n",
    "    features = binary_feature_query(icd_codes, unique_patients, like=like)\n",
    "    df_features = pd.DataFrame(features, columns=[feature_name, index_field])\n",
    "    df_new = df.join(df_features.set_index(index_field), on=index_field, how='left')\n",
    "    df_new[feature_name] = df_new[feature_name].apply(lambda v: 0 if pd.isnull(v) else v)\n",
    "    return df_new"
   ]
  },
  {
   "cell_type": "code",
   "execution_count": 98,
   "id": "ceef4bc3-a686-4e28-8796-7b12d8a642e9",
   "metadata": {
    "tags": []
   },
   "outputs": [
    {
     "name": "stdout",
     "output_type": "stream",
     "text": [
      "unique patient # 861\n"
     ]
    }
   ],
   "source": [
    "chf_codes = '428%'\n",
    "df_new = add_feature_by_query(df_cohort, chf_codes, 'CHF', like=True)"
   ]
  },
  {
   "cell_type": "markdown",
   "id": "dcdc3f51-2168-4ab3-bf16-9fa3c6393d64",
   "metadata": {},
   "source": [
    "## add leukemia feature"
   ]
  },
  {
   "cell_type": "code",
   "execution_count": 99,
   "id": "a6b2ae05-3d20-4bf1-b9be-a40e251628f2",
   "metadata": {
    "tags": []
   },
   "outputs": [
    {
     "name": "stdout",
     "output_type": "stream",
     "text": [
      "disease icd9 codes ['20310', '20311', '20312', '20400', '20401', '20402', '20410', '20411', '20412', '20420', '20421', '20422', '20480', '20481', '20482', '20490', '20491', '20492', '20500', '20501', '20502', '20510', '20511', '20512', '20520', '20521', '20522', '20580', '20581', '20582', '20590', '20591', '20592', '20600', '20601', '20602', '20610', '20611', '20612', '20620', '20621', '20622', '20680', '20681', '20682', '20690', '20691', '20692', '20700', '20701', '20702', '20720', '20721', '20722', '20780', '20781', '20782', '20800', '20801', '20802', '20810', '20811', '20812', '20820', '20821', '20822', '20880', '20881', '20882', '20890', '20891', '20892', 'V1060', 'V1061', 'V1062', 'V1063', 'V1069', 'V166']\n",
      "unique patient # 861\n"
     ]
    }
   ],
   "source": [
    "leukemia_label = 'leukemia'\n",
    "leukemia_codes = get_icd9_by_diag_label(leukemia_label)\n",
    "df_new = add_feature_by_query(df_new, leukemia_codes, 'Leukemia')"
   ]
  },
  {
   "cell_type": "code",
   "execution_count": 101,
   "id": "6f8b7d90-7e82-47a7-b57c-cbbc0e8bb179",
   "metadata": {
    "tags": []
   },
   "outputs": [
    {
     "data": {
      "text/plain": [
       "0.0    979\n",
       "1.0      7\n",
       "3.0      2\n",
       "2.0      1\n",
       "6.0      1\n",
       "Name: Leukemia, dtype: int64"
      ]
     },
     "execution_count": 101,
     "metadata": {},
     "output_type": "execute_result"
    }
   ],
   "source": [
    "df_new['Leukemia'].value_counts()"
   ]
  },
  {
   "cell_type": "code",
   "execution_count": 102,
   "id": "18f842fb-d276-4f6b-91ad-e3e95850817f",
   "metadata": {
    "tags": []
   },
   "outputs": [
    {
     "name": "stdout",
     "output_type": "stream",
     "text": [
      "disease icd9 codes ['5712', '5715', '5716']\n",
      "unique patient # 861\n"
     ]
    }
   ],
   "source": [
    "cirrhosis_codes = get_icd9_by_diag_label('cirrhosis')\n",
    "df_new = add_feature_by_query(df_new, cirrhosis_codes, 'cirrhosis')"
   ]
  },
  {
   "cell_type": "code",
   "execution_count": 104,
   "id": "5fc8ff9d-f65e-418a-8b99-3fa193253276",
   "metadata": {},
   "outputs": [
    {
     "data": {
      "text/plain": [
       "0.0     908\n",
       "1.0      46\n",
       "2.0      16\n",
       "3.0       7\n",
       "4.0       6\n",
       "5.0       5\n",
       "10.0      1\n",
       "6.0       1\n",
       "Name: cirrhosis, dtype: int64"
      ]
     },
     "execution_count": 104,
     "metadata": {},
     "output_type": "execute_result"
    }
   ],
   "source": [
    "df_new['cirrhosis'].value_counts()"
   ]
  },
  {
   "cell_type": "markdown",
   "id": "a14b83b2-3e3e-49e7-b2a1-218130b6cb17",
   "metadata": {},
   "source": [
    "# 3. generate train-dev-test dataframe"
   ]
  },
  {
   "cell_type": "code",
   "execution_count": null,
   "id": "ddb2a77e-ce23-43e2-bc6e-76c109070a24",
   "metadata": {},
   "outputs": [],
   "source": [
    "from sklearn.model_selection import train_test_split\n",
    "\n",
    "df_cohort = pd.read_csv(csv_file)\n",
    "X = df_cohort[['patient_id', 'row_id']].apply(lambda r: '%s_%s' % (r[0], r[1]), axis=1)\n",
    "y = df_cohort['case']\n",
    "\n",
    "X_train_dev, X_test, y_train_dev, y_test = train_test_split(X, y, test_size=0.2, stratify=y, shuffle=True, random_state=1)\n",
    "X_train, X_dev, y_train, y_dev = train_test_split(X_train_dev, y_train_dev, test_size=0.1, stratify=y_train_dev, shuffle=True, random_state=1)"
   ]
  },
  {
   "cell_type": "code",
   "execution_count": null,
   "id": "aba26210-c6f3-45a7-82e6-1f5772af86ef",
   "metadata": {},
   "outputs": [],
   "source": [
    "train_csv = './sr_%s_train.csv' % case_disease_name\n",
    "dev_csv = './sr_%s_dev.csv' % case_disease_name\n",
    "test_csv = './sr_%s_test.csv' % case_disease_name\n",
    "pd.DataFrame({'sr_id': X_train, case_disease_name: y_train}).to_csv(train_csv, index=False)\n",
    "pd.DataFrame({'sr_id': X_dev, case_disease_name: y_dev}).to_csv(dev_csv, index=False)\n",
    "pd.DataFrame({'sr_id': X_test, case_disease_name: y_test}).to_csv(test_csv, index=False)\n",
    "print('training/dev/testing saved')"
   ]
  },
  {
   "cell_type": "code",
   "execution_count": null,
   "id": "d565b2ff-6ae8-4761-a95f-05970f7fcb0d",
   "metadata": {},
   "outputs": [],
   "source": []
  }
 ],
 "metadata": {
  "kernelspec": {
   "display_name": "Python 3",
   "language": "python",
   "name": "python3"
  },
  "language_info": {
   "codemirror_mode": {
    "name": "ipython",
    "version": 3
   },
   "file_extension": ".py",
   "mimetype": "text/x-python",
   "name": "python",
   "nbconvert_exporter": "python",
   "pygments_lexer": "ipython3",
   "version": "3.8.8"
  }
 },
 "nbformat": 4,
 "nbformat_minor": 5
}